{
 "cells": [
  {
   "cell_type": "code",
   "execution_count": 72,
   "id": "2c066a19",
   "metadata": {},
   "outputs": [],
   "source": [
    "import os \n",
    "import smtplib\n",
    "from email.message import EmailMessage"
   ]
  },
  {
   "cell_type": "code",
   "execution_count": 73,
   "id": "47e3f398",
   "metadata": {},
   "outputs": [
    {
     "data": {
      "text/plain": [
       "False"
      ]
     },
     "execution_count": 73,
     "metadata": {},
     "output_type": "execute_result"
    }
   ],
   "source": [
    "load_dotenv()"
   ]
  },
  {
   "cell_type": "code",
   "execution_count": 74,
   "id": "d4bf9291",
   "metadata": {},
   "outputs": [],
   "source": [
    "email = \"remailficticio_1@gmail.com\"\n",
    "senha-do_email = \"senhafictcia\""
   ]
  },
  {
   "cell_type": "code",
   "execution_count": 75,
   "id": "aa73ecee",
   "metadata": {},
   "outputs": [],
   "source": [
    "senha_do_email = os.environ.get(\"senha_email\")"
   ]
  },
  {
   "cell_type": "code",
   "execution_count": 76,
   "id": "c0654396",
   "metadata": {},
   "outputs": [],
   "source": [
    "emails_destinatarios = ['emailficticio@gmail.com']"
   ]
  },
  {
   "cell_type": "code",
   "execution_count": 77,
   "id": "c96e4589",
   "metadata": {},
   "outputs": [],
   "source": [
    "msg = EmailMessage()\n",
    "msg['Subject'] = 'Enviando e-mail com Python'\n",
    "msg['From'] = 'rafazago97@gmail.com'\n",
    "msg['To'] = \",\".join(emails_destinatarios)\n",
    "msg.set_content('''Segue relatório diário''')"
   ]
  },
  {
   "cell_type": "code",
   "execution_count": 78,
   "id": "2a813bd2",
   "metadata": {},
   "outputs": [],
   "source": [
    "with open('dolar.png','rb') as content_file:\n",
    "    content = content_file.read()\n",
    "    msg.add_attachment(content, maintype='application', subtype='png', filename='dolar.png')"
   ]
  },
  {
   "cell_type": "code",
   "execution_count": 79,
   "id": "cc09bb40",
   "metadata": {},
   "outputs": [],
   "source": [
    "with open('relatorio_diario.pdf', 'rb') as content_file:\n",
    "    content = content_file.read()\n",
    "    msg.add_attachment(content, maintype='application', subtype='pdf', filename='relatorio_diario.pdf')\n",
    "\n"
   ]
  },
  {
   "cell_type": "code",
   "execution_count": null,
   "id": "a3a4b300",
   "metadata": {},
   "outputs": [],
   "source": [
    "with smtplib.SMTP_SSL('smtp.gmail.com', 465) as smtp:\n",
    "\n",
    "    smtp.login(email, senha_do_email)\n",
    "    smtp.send_message(msg)"
   ]
  }
 ],
 "metadata": {
  "kernelspec": {
   "display_name": "Python 3 (ipykernel)",
   "language": "python",
   "name": "python3"
  },
  "language_info": {
   "codemirror_mode": {
    "name": "ipython",
    "version": 3
   },
   "file_extension": ".py",
   "mimetype": "text/x-python",
   "name": "python",
   "nbconvert_exporter": "python",
   "pygments_lexer": "ipython3",
   "version": "3.11.5"
  }
 },
 "nbformat": 4,
 "nbformat_minor": 5
}
