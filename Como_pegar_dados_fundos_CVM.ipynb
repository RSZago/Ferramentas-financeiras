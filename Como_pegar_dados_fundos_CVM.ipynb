{
 "cells": [
  {
   "cell_type": "code",
   "execution_count": 4,
   "id": "5b3cb419",
   "metadata": {},
   "outputs": [],
   "source": [
    "import pandas as pd\n",
    "import requests\n",
    "import zipfile\n",
    "import os\n",
    "\n",
    "pd.options.display.float_format = '{:.4f}'.format"
   ]
  },
  {
   "cell_type": "code",
   "execution_count": null,
   "id": "1e63925b",
   "metadata": {},
   "outputs": [],
   "source": [
    "ano = \"2023\"\n",
    "mes = \"12\"\n",
    "url = f'https://dados.cvm.gov.br/dados/FI/DOC/INF_DIARIO/DADOS/inf_diario_fi_{ano}{mes}.zip'\n",
    "\n",
    "os.chdir(r'C:\\Users\\Rafael\\dev\\dados_cvm')"
   ]
  },
  {
   "cell_type": "code",
   "execution_count": null,
   "id": "5ad6a113",
   "metadata": {},
   "outputs": [],
   "source": [
    "download = requests.get(url)\n",
    "\n",
    "with open(f\"inf_diario_fi_{ano}{mes}.zip\", \"wb\") as arquivo_cvm:\n",
    "\n",
    "    arquivo_cvm.write(download.content)\n",
    "\n",
    "arquivo_zip = zipfile.ZipFile(f\"inf_diario_fi_{ano}{mes}.zip\")"
   ]
  },
  {
   "cell_type": "code",
   "execution_count": null,
   "id": "17a03314",
   "metadata": {},
   "outputs": [],
   "source": [
    "dados_fundos = pd.read_csv(arquivo_zip.namelist()[0]), sep = \";\", encoding = 'ISO-8859-1'"
   ]
  },
  {
   "cell_type": "code",
   "execution_count": null,
   "id": "45ad1507",
   "metadata": {},
   "outputs": [],
   "source": [
    "dados_cadastro = pd.read_csv('https://dados.cvm.gov.br/dados/FI/CAD/DADOS/cad_fi.csv', sep = \";\", encoding = 'ISO-8859-1')\n",
    "\n",
    "dados_cadastro = dados_cadastro[['CNPJ_FUNDO', 'DENOM_SOCIAL']]\n",
    "\n",
    "dados_cadastro = dados_cadastro.drop_duplicate()"
   ]
  },
  {
   "cell_type": "code",
   "execution_count": null,
   "id": "bc15d170",
   "metadata": {},
   "outputs": [],
   "source": [
    "data_inicio_mes = (dados_fundos['DT_COMPTC'].sort_values(ascending = True).unique())[-0]\n",
    "data_fim_mes = (dados_fundos['DT_COMPTC'].sort_values(ascending = True).unique())[-1]\n",
    "\n",
    "dados_fundos_filtrado = dados_fundos[(dados_fundos['DT_COMPTC'].isin([data_inicio_mes, data_fim_mes]))]"
   ]
  },
  {
   "cell_type": "code",
   "execution_count": null,
   "id": "d46d6f3b",
   "metadata": {},
   "outputs": [],
   "source": [
    "base_final = pd.merge(dados_fundos_filtrado, dados_cadastro, how = \"left\", left_on = [\"CNPJ_FUNDO\"])\n",
    "\n",
    "base_final = base_final[['CNPJ_FUNDO, 'DENOM_SOCIAL', 'DT_COMPTC', 'VL_QUOTA', 'VL_PATRIM_LIQ', 'NR_COTST' ]]\n",
    "\n",
    "base_final = base_final.dropna()"
   ]
  },
  {
   "cell_type": "code",
   "execution_count": null,
   "id": "e55a80b3",
   "metadata": {},
   "outputs": [],
   "source": [
    "base_final[base_final['DENOM-SOCIAL'].str.contains(\"ARCA GRÃO\")]"
   ]
  }
 ],
 "metadata": {
  "kernelspec": {
   "display_name": "Python 3 (ipykernel)",
   "language": "python",
   "name": "python3"
  }
 },
 "nbformat": 4,
 "nbformat_minor": 5
}
