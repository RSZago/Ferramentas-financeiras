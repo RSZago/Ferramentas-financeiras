{
 "cells": [
  {
   "cell_type": "code",
   "execution_count": 12,
   "id": "154e73f4",
   "metadata": {},
   "outputs": [],
   "source": [
    "import yfinance as yf\n",
    "import statsmodels.api as sm\n",
    "from datetime import timedelta\n",
    "from datetime import datetime"
   ]
  },
  {
   "cell_type": "code",
   "execution_count": 16,
   "id": "ace289eb",
   "metadata": {},
   "outputs": [
    {
     "name": "stderr",
     "output_type": "stream",
     "text": [
      "[*********************100%%**********************]  2 of 2 completed\n"
     ]
    },
    {
     "data": {
      "text/html": [
       "<div>\n",
       "<style scoped>\n",
       "    .dataframe tbody tr th:only-of-type {\n",
       "        vertical-align: middle;\n",
       "    }\n",
       "\n",
       "    .dataframe tbody tr th {\n",
       "        vertical-align: top;\n",
       "    }\n",
       "\n",
       "    .dataframe thead th {\n",
       "        text-align: right;\n",
       "    }\n",
       "</style>\n",
       "<table border=\"1\" class=\"dataframe\">\n",
       "  <thead>\n",
       "    <tr style=\"text-align: right;\">\n",
       "      <th></th>\n",
       "      <th>WEGE3.SA</th>\n",
       "      <th>^BVSP</th>\n",
       "    </tr>\n",
       "    <tr>\n",
       "      <th>Date</th>\n",
       "      <th></th>\n",
       "      <th></th>\n",
       "    </tr>\n",
       "  </thead>\n",
       "  <tbody>\n",
       "    <tr>\n",
       "      <th>2021-01-13</th>\n",
       "      <td>43.1438</td>\n",
       "      <td>122040.0000</td>\n",
       "    </tr>\n",
       "    <tr>\n",
       "      <th>2021-01-14</th>\n",
       "      <td>42.9478</td>\n",
       "      <td>123481.0000</td>\n",
       "    </tr>\n",
       "    <tr>\n",
       "      <th>2021-01-15</th>\n",
       "      <td>41.1749</td>\n",
       "      <td>120502.0000</td>\n",
       "    </tr>\n",
       "    <tr>\n",
       "      <th>2021-01-18</th>\n",
       "      <td>44.0661</td>\n",
       "      <td>121242.0000</td>\n",
       "    </tr>\n",
       "    <tr>\n",
       "      <th>2021-01-19</th>\n",
       "      <td>42.8188</td>\n",
       "      <td>120673.0000</td>\n",
       "    </tr>\n",
       "    <tr>\n",
       "      <th>...</th>\n",
       "      <td>...</td>\n",
       "      <td>...</td>\n",
       "    </tr>\n",
       "    <tr>\n",
       "      <th>2024-01-08</th>\n",
       "      <td>36.0600</td>\n",
       "      <td>132427.0000</td>\n",
       "    </tr>\n",
       "    <tr>\n",
       "      <th>2024-01-09</th>\n",
       "      <td>35.1700</td>\n",
       "      <td>131447.0000</td>\n",
       "    </tr>\n",
       "    <tr>\n",
       "      <th>2024-01-10</th>\n",
       "      <td>35.3200</td>\n",
       "      <td>130841.0000</td>\n",
       "    </tr>\n",
       "    <tr>\n",
       "      <th>2024-01-11</th>\n",
       "      <td>34.8200</td>\n",
       "      <td>130649.0000</td>\n",
       "    </tr>\n",
       "    <tr>\n",
       "      <th>2024-01-12</th>\n",
       "      <td>34.6700</td>\n",
       "      <td>130988.0000</td>\n",
       "    </tr>\n",
       "  </tbody>\n",
       "</table>\n",
       "<p>747 rows × 2 columns</p>\n",
       "</div>"
      ],
      "text/plain": [
       "            WEGE3.SA       ^BVSP\n",
       "Date                            \n",
       "2021-01-13   43.1438 122040.0000\n",
       "2021-01-14   42.9478 123481.0000\n",
       "2021-01-15   41.1749 120502.0000\n",
       "2021-01-18   44.0661 121242.0000\n",
       "2021-01-19   42.8188 120673.0000\n",
       "...              ...         ...\n",
       "2024-01-08   36.0600 132427.0000\n",
       "2024-01-09   35.1700 131447.0000\n",
       "2024-01-10   35.3200 130841.0000\n",
       "2024-01-11   34.8200 130649.0000\n",
       "2024-01-12   34.6700 130988.0000\n",
       "\n",
       "[747 rows x 2 columns]"
      ]
     },
     "execution_count": 16,
     "metadata": {},
     "output_type": "execute_result"
    }
   ],
   "source": [
    "ativos = [\"WEGE3.SA\", \"^BVSP\"]\n",
    "data = datetime.now()\n",
    "tres_anos_atras = data - timedelta(days = 1095)\n",
    "\n",
    "dados_cotacoes = yf.download(ativos, tres_anos_atras, data)['Adj Close']\n",
    "\n",
    "dados_cotacoes"
   ]
  },
  {
   "cell_type": "code",
   "execution_count": 17,
   "id": "66c05d77",
   "metadata": {},
   "outputs": [],
   "source": [
    "retornos_diarios = dados_cotacoes.pct_change().dropna()"
   ]
  },
  {
   "cell_type": "code",
   "execution_count": 18,
   "id": "266d3f8a",
   "metadata": {},
   "outputs": [],
   "source": [
    "X = retornos_diarios['^BVSP']\n",
    "Y = retornos_diarios[ativos[0]]\n",
    "X = sm.add_constant(X)\n",
    "model = sm.OLS(Y, X).fit()\n",
    "\n"
   ]
  },
  {
   "cell_type": "code",
   "execution_count": 19,
   "id": "fffd76ed",
   "metadata": {},
   "outputs": [
    {
     "name": "stdout",
     "output_type": "stream",
     "text": [
      "0.7668245842053707\n",
      "0.21995266389237644\n",
      "-----------------------------\n",
      "                            OLS Regression Results                            \n",
      "==============================================================================\n",
      "Dep. Variable:               WEGE3.SA   R-squared:                       0.220\n",
      "Model:                            OLS   Adj. R-squared:                  0.219\n",
      "Method:                 Least Squares   F-statistic:                     209.8\n",
      "Date:                Sat, 13 Jan 2024   Prob (F-statistic):           4.59e-42\n",
      "Time:                        14:21:14   Log-Likelihood:                 1941.8\n",
      "No. Observations:                 746   AIC:                            -3880.\n",
      "Df Residuals:                     744   BIC:                            -3870.\n",
      "Df Model:                           1                                         \n",
      "Covariance Type:            nonrobust                                         \n",
      "==============================================================================\n",
      "                 coef    std err          t      P>|t|      [0.025      0.975]\n",
      "------------------------------------------------------------------------------\n",
      "const         -0.0002      0.001     -0.335      0.738      -0.002       0.001\n",
      "^BVSP          0.7668      0.053     14.484      0.000       0.663       0.871\n",
      "==============================================================================\n",
      "Omnibus:                       91.068   Durbin-Watson:                   2.137\n",
      "Prob(Omnibus):                  0.000   Jarque-Bera (JB):              363.234\n",
      "Skew:                           0.501   Prob(JB):                     1.33e-79\n",
      "Kurtosis:                       6.269   Cond. No.                         80.6\n",
      "==============================================================================\n",
      "\n",
      "Notes:\n",
      "[1] Standard Errors assume that the covariance matrix of the errors is correctly specified.\n"
     ]
    }
   ],
   "source": [
    "print(model.params[1])\n",
    "print(model.rsquared)\n",
    "print(\"-----------------------------\")\n",
    "print(str(model.summary()))"
   ]
  }
 ],
 "metadata": {
  "kernelspec": {
   "display_name": "Python 3 (ipykernel)",
   "language": "python",
   "name": "python3"
  }
 },
 "nbformat": 4,
 "nbformat_minor": 5
}
